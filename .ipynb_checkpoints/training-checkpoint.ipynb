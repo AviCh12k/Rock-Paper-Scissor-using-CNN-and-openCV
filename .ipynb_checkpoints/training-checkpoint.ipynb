{
 "cells": [
  {
   "cell_type": "code",
   "execution_count": 1,
   "metadata": {},
   "outputs": [
    {
     "name": "stdout",
     "output_type": "stream",
     "text": [
      "2.3.0\n"
     ]
    }
   ],
   "source": [
    "import tensorflow as tf\n",
    "print(tf.__version__)"
   ]
  },
  {
   "cell_type": "code",
   "execution_count": 34,
   "metadata": {},
   "outputs": [],
   "source": [
    "model = tf.keras.Sequential([\n",
    "    tf.keras.layers.Conv2D(32, (3,3), activation='relu', input_shape=(128,128,3)),\n",
    "    tf.keras.layers.Conv2D(64, (3,3), activation='relu'),\n",
    "    tf.keras.layers.MaxPooling2D(2,2),\n",
    "#     tf.keras.layers.Conv2D(64, (3,3), activation='relu'),\n",
    "#     tf.keras.layers.MaxPooling2D(2,2),\n",
    "    tf.keras.layers.Dropout(0.25),\n",
    "    tf.keras.layers.Flatten(),\n",
    "    tf.keras.layers.Dense(128, activation='relu'),\n",
    "#     tf.keras.layers.Dense(128, activation='relu'),\n",
    "    tf.keras.layers.Dense(64, activation='relu'),\n",
    "    tf.keras.layers.Dropout(0.5),\n",
    "    tf.keras.layers.Dense(3, activation='softmax')\n",
    "    ])"
   ]
  },
  {
   "cell_type": "code",
   "execution_count": 35,
   "metadata": {},
   "outputs": [],
   "source": [
    "model.compile(optimizer='adam', loss='sparse_categorical_crossentropy', metrics=['accuracy'])"
   ]
  },
  {
   "cell_type": "code",
   "execution_count": 36,
   "metadata": {},
   "outputs": [],
   "source": [
    "from keras.preprocessing.image import ImageDataGenerator, array_to_img, img_to_array, load_img"
   ]
  },
  {
   "cell_type": "code",
   "execution_count": 37,
   "metadata": {},
   "outputs": [],
   "source": [
    "train_datagen = ImageDataGenerator(\n",
    "        rescale=1./255,\n",
    "        shear_range=0.2,\n",
    "        zoom_range=0.2,\n",
    "        horizontal_flip=True)\n",
    "test_datagen = ImageDataGenerator(rescale=1./255)\n"
   ]
  },
  {
   "cell_type": "code",
   "execution_count": 38,
   "metadata": {},
   "outputs": [
    {
     "name": "stdout",
     "output_type": "stream",
     "text": [
      "Found 2520 images belonging to 3 classes.\n",
      "Found 372 images belonging to 3 classes.\n"
     ]
    }
   ],
   "source": [
    "train_generator = train_datagen.flow_from_directory(\n",
    "        'Dataset2/train',\n",
    "        target_size=(128, 128),\n",
    "        batch_size=32,\n",
    "        class_mode='sparse')\n",
    "validation_generator = test_datagen.flow_from_directory(\n",
    "        'Rock-Paper-Scissors/test',\n",
    "        target_size=(128, 128),\n",
    "        batch_size=32,\n",
    "        class_mode='sparse')"
   ]
  },
  {
   "cell_type": "code",
   "execution_count": null,
   "metadata": {},
   "outputs": [
    {
     "name": "stdout",
     "output_type": "stream",
     "text": [
      "Epoch 1/25\n",
      " 2/79 [..............................] - ETA: 2s - loss: 2.9772 - accuracy: 0.3750WARNING:tensorflow:Callbacks method `on_train_batch_end` is slow compared to the batch time (batch time: 0.0210s vs `on_train_batch_end` time: 0.0498s). Check your callbacks.\n",
      "79/79 [==============================] - 14s 176ms/step - loss: 0.6821 - accuracy: 0.7183 - val_loss: 0.3070 - val_accuracy: 0.8790\n",
      "Epoch 2/25\n",
      "79/79 [==============================] - 14s 171ms/step - loss: 0.1077 - accuracy: 0.9694 - val_loss: 0.2874 - val_accuracy: 0.8952\n",
      "Epoch 3/25\n",
      "79/79 [==============================] - 13s 170ms/step - loss: 0.0565 - accuracy: 0.9806 - val_loss: 0.4405 - val_accuracy: 0.8575\n",
      "Epoch 4/25\n",
      "79/79 [==============================] - 13s 170ms/step - loss: 0.0311 - accuracy: 0.9889 - val_loss: 0.6170 - val_accuracy: 0.7957\n",
      "Epoch 5/25\n",
      "79/79 [==============================] - 13s 170ms/step - loss: 0.0400 - accuracy: 0.9889 - val_loss: 0.4995 - val_accuracy: 0.9167\n",
      "Epoch 6/25\n",
      "79/79 [==============================] - 14s 173ms/step - loss: 0.0181 - accuracy: 0.9952 - val_loss: 0.4838 - val_accuracy: 0.8737\n",
      "Epoch 7/25\n",
      "79/79 [==============================] - 15s 196ms/step - loss: 0.0023 - accuracy: 0.9996 - val_loss: 0.3877 - val_accuracy: 0.9005\n",
      "Epoch 8/25\n",
      "79/79 [==============================] - 14s 174ms/step - loss: 0.0174 - accuracy: 0.9944 - val_loss: 0.4990 - val_accuracy: 0.9032\n",
      "Epoch 9/25\n",
      "79/79 [==============================] - 14s 176ms/step - loss: 0.0291 - accuracy: 0.9877 - val_loss: 0.7995 - val_accuracy: 0.7661\n",
      "Epoch 10/25\n",
      "79/79 [==============================] - 15s 185ms/step - loss: 0.0386 - accuracy: 0.9877 - val_loss: 0.2787 - val_accuracy: 0.8978\n",
      "Epoch 11/25\n",
      "79/79 [==============================] - 15s 187ms/step - loss: 0.0105 - accuracy: 0.9968 - val_loss: 0.5444 - val_accuracy: 0.9005\n",
      "Epoch 12/25\n",
      "79/79 [==============================] - 14s 177ms/step - loss: 3.7265e-04 - accuracy: 1.0000 - val_loss: 0.6212 - val_accuracy: 0.8629\n",
      "Epoch 13/25\n",
      "79/79 [==============================] - 14s 179ms/step - loss: 3.8536e-04 - accuracy: 1.0000 - val_loss: 0.7085 - val_accuracy: 0.8737\n",
      "Epoch 14/25\n",
      "79/79 [==============================] - 14s 181ms/step - loss: 6.9200e-04 - accuracy: 1.0000 - val_loss: 0.6418 - val_accuracy: 0.9113\n",
      "Epoch 15/25\n",
      "79/79 [==============================] - 15s 191ms/step - loss: 8.7783e-05 - accuracy: 1.0000 - val_loss: 0.7480 - val_accuracy: 0.9059\n",
      "Epoch 16/25\n",
      "79/79 [==============================] - 16s 201ms/step - loss: 0.0059 - accuracy: 0.9976 - val_loss: 0.7559 - val_accuracy: 0.8925\n",
      "Epoch 17/25\n",
      "79/79 [==============================] - 15s 187ms/step - loss: 0.0250 - accuracy: 0.9933 - val_loss: 0.8764 - val_accuracy: 0.8387\n",
      "Epoch 18/25\n",
      "79/79 [==============================] - 15s 188ms/step - loss: 0.0162 - accuracy: 0.9968 - val_loss: 1.3041 - val_accuracy: 0.8253\n",
      "Epoch 19/25\n",
      "79/79 [==============================] - 15s 190ms/step - loss: 0.0175 - accuracy: 0.9960 - val_loss: 0.8656 - val_accuracy: 0.8172\n",
      "Epoch 20/25\n",
      "79/79 [==============================] - 14s 183ms/step - loss: 0.0101 - accuracy: 0.9968 - val_loss: 1.7434 - val_accuracy: 0.8118\n",
      "Epoch 21/25\n",
      "38/79 [=============>................] - ETA: 6s - loss: 0.0142 - accuracy: 0.9967"
     ]
    }
   ],
   "source": [
    "model.fit(\n",
    "        train_generator,\n",
    "        steps_per_epoch=79,\n",
    "        epochs=25,\n",
    "        validation_data=validation_generator,\n",
    "        validation_steps=12)"
   ]
  },
  {
   "cell_type": "code",
   "execution_count": 29,
   "metadata": {},
   "outputs": [
    {
     "name": "stdout",
     "output_type": "stream",
     "text": [
      "Requirement already satisfied: h5py in d:\\anaconda\\envs\\tf-gpu-1.14\\lib\\site-packages (2.10.0)\n",
      "Requirement already satisfied: six in d:\\anaconda\\envs\\tf-gpu-1.14\\lib\\site-packages (from h5py) (1.15.0)\n",
      "Requirement already satisfied: numpy>=1.7 in c:\\users\\adarsh kumar\\appdata\\roaming\\python\\python37\\site-packages (from h5py) (1.18.5)\n",
      "Note: you may need to restart the kernel to use updated packages.\n"
     ]
    }
   ],
   "source": [
    "pip install h5py"
   ]
  },
  {
   "cell_type": "code",
   "execution_count": 30,
   "metadata": {},
   "outputs": [],
   "source": [
    "model.save(\"model.h5\")"
   ]
  },
  {
   "cell_type": "code",
   "execution_count": 32,
   "metadata": {},
   "outputs": [],
   "source": [
    "from keras.models import load_model\n",
    "model = load_model('model.h5')"
   ]
  },
  {
   "cell_type": "code",
   "execution_count": 33,
   "metadata": {},
   "outputs": [
    {
     "name": "stdout",
     "output_type": "stream",
     "text": [
      "Model: \"sequential_2\"\n",
      "_________________________________________________________________\n",
      "Layer (type)                 Output Shape              Param #   \n",
      "=================================================================\n",
      "conv2d_4 (Conv2D)            (None, 62, 62, 32)        896       \n",
      "_________________________________________________________________\n",
      "conv2d_5 (Conv2D)            (None, 60, 60, 64)        18496     \n",
      "_________________________________________________________________\n",
      "max_pooling2d_2 (MaxPooling2 (None, 30, 30, 64)        0         \n",
      "_________________________________________________________________\n",
      "conv2d_6 (Conv2D)            (None, 28, 28, 64)        36928     \n",
      "_________________________________________________________________\n",
      "max_pooling2d_3 (MaxPooling2 (None, 14, 14, 64)        0         \n",
      "_________________________________________________________________\n",
      "flatten_2 (Flatten)          (None, 12544)             0         \n",
      "_________________________________________________________________\n",
      "dense_6 (Dense)              (None, 128)               1605760   \n",
      "_________________________________________________________________\n",
      "dense_7 (Dense)              (None, 128)               16512     \n",
      "_________________________________________________________________\n",
      "dense_8 (Dense)              (None, 64)                8256      \n",
      "_________________________________________________________________\n",
      "dense_9 (Dense)              (None, 3)                 195       \n",
      "=================================================================\n",
      "Total params: 1,687,043\n",
      "Trainable params: 1,687,043\n",
      "Non-trainable params: 0\n",
      "_________________________________________________________________\n"
     ]
    }
   ],
   "source": [
    "model.summary()"
   ]
  },
  {
   "cell_type": "code",
   "execution_count": null,
   "metadata": {},
   "outputs": [],
   "source": []
  }
 ],
 "metadata": {
  "kernelspec": {
   "display_name": "TensorFlow-GPU-1.14",
   "language": "python",
   "name": "tf-gpu"
  },
  "language_info": {
   "codemirror_mode": {
    "name": "ipython",
    "version": 3
   },
   "file_extension": ".py",
   "mimetype": "text/x-python",
   "name": "python",
   "nbconvert_exporter": "python",
   "pygments_lexer": "ipython3",
   "version": "3.7.0"
  }
 },
 "nbformat": 4,
 "nbformat_minor": 2
}
